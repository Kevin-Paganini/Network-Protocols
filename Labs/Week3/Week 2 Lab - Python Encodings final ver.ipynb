{
 "cells": [
  {
   "cell_type": "markdown",
   "id": "ba6663cc",
   "metadata": {},
   "source": [
    "# Python Encoding Lab"
   ]
  },
  {
   "cell_type": "code",
   "execution_count": 1,
   "id": "7f8356b7",
   "metadata": {},
   "outputs": [],
   "source": [
    "from labbank import *"
   ]
  },
  {
   "cell_type": "markdown",
   "id": "04937187",
   "metadata": {},
   "source": [
    "The following questions ask you to write some code in Python to perform operations on Python variables and literals. To prepare data for sending or to understand data that has been received, it is moved in and out of a Python bytes object. To avoid unnecessary data conversion, in Problems 1-5, do not use the str, int, hex, format, etc. functions.  Instead use the commands introduced by your instructor (see the Java-Python Translation Table). The phrase “Instruct Python to copy” indicates that you should use a Python command that converts an object of one type into another rather than writing a literal value in the new type. There is no need to write your variables in hexadecimal shorthand unless the problem specifies to do so."
   ]
  },
  {
   "cell_type": "markdown",
   "id": "da0d43c5",
   "metadata": {},
   "source": [
    "### 1. Assign the number 1000 to a variable.  Instruct Python to copy the stored bits contained in this variable into a 16-bit Python bytes object.  (The bytes object should store the same bits as the int internally.) Use Bigendian for your byts encoding."
   ]
  },
  {
   "cell_type": "code",
   "execution_count": 19,
   "id": "d331ab80",
   "metadata": {},
   "outputs": [
    {
     "data": {
      "text/plain": [
       "'Correct'"
      ]
     },
     "execution_count": 19,
     "metadata": {},
     "output_type": "execute_result"
    }
   ],
   "source": [
    "# Your Code Here\n",
    "num = 1000\n",
    "bob = int.to_bytes(num, 2, 'big')\n",
    "\n",
    "n1(bob)"
   ]
  },
  {
   "cell_type": "markdown",
   "id": "2a5ab709",
   "metadata": {},
   "source": [
    "### 2. In your recent quiz, you created the Python bytes object b'2 Faced' by simply typing it into Python.  Now, create the same object by specifying the hexadecimal values and stroing it as an int. For example, to store the hexadecimal shorthand 12 34 FF into a variable, you could type i=0x1234ff."
   ]
  },
  {
   "cell_type": "markdown",
   "id": "561b9749",
   "metadata": {},
   "source": [
    "\n",
    "<span style=\"color:red; font-size: 200%\">not sure why this is wrong</span>\n"
   ]
  },
  {
   "cell_type": "code",
   "execution_count": 3,
   "id": "5fd4a438",
   "metadata": {},
   "outputs": [
    {
     "name": "stdout",
     "output_type": "stream",
     "text": [
      "0x32204661636564\n"
     ]
    },
    {
     "data": {
      "text/plain": [
       "'Correct'"
      ]
     },
     "execution_count": 3,
     "metadata": {},
     "output_type": "execute_result"
    }
   ],
   "source": [
    "# Your code here\n",
    "bob = b'2 Faced'\n",
    "\n",
    "num = '0x' + bob.hex()\n",
    "\n",
    "print(num)\n",
    "ans = 0x32204661636564\n",
    "\n",
    "n2(ans)"
   ]
  },
  {
   "cell_type": "markdown",
   "id": "7eac6de6",
   "metadata": {},
   "source": [
    "### 3. Instruct Python to copy the bits stored in the variable from the prvious problem into a Python bytes object, just as you did with the number 1000 in Problem 1.  Display the bytes object to check if it is b'2 Faced'."
   ]
  },
  {
   "cell_type": "code",
   "execution_count": 4,
   "id": "6f5525dd",
   "metadata": {},
   "outputs": [
    {
     "name": "stdout",
     "output_type": "stream",
     "text": [
      "b'2 Faced'\n"
     ]
    },
    {
     "data": {
      "text/plain": [
       "'Correct'"
      ]
     },
     "execution_count": 4,
     "metadata": {},
     "output_type": "execute_result"
    }
   ],
   "source": [
    "num = 0x32204661636564\n",
    "byte = num.to_bytes(7, 'big')\n",
    "print(byte)\n",
    "n3(byte)"
   ]
  },
  {
   "cell_type": "code",
   "execution_count": 5,
   "id": "2464d9d7",
   "metadata": {},
   "outputs": [
    {
     "name": "stdout",
     "output_type": "stream",
     "text": [
      "b'2 Faced'\n"
     ]
    }
   ],
   "source": [
    "# Print the results of your code here: should be b'2 Faced'\n",
    "print(byte)"
   ]
  },
  {
   "cell_type": "markdown",
   "id": "0a8135c7",
   "metadata": {},
   "source": [
    "### 4. Find the hexadecimal shorthand for 1055.  Pad this with zeros (if needed) to create a two-byte number and write it as a Python bytes object literal: b'\\x__\\x__'. Next, copy the contents of the bytes object back into an integer. (The int should store the same bits as the bytes object.)"
   ]
  },
  {
   "cell_type": "code",
   "execution_count": 6,
   "id": "d90ae563",
   "metadata": {},
   "outputs": [
    {
     "name": "stdout",
     "output_type": "stream",
     "text": [
      "041f\n"
     ]
    },
    {
     "data": {
      "text/plain": [
       "'Correct'"
      ]
     },
     "execution_count": 6,
     "metadata": {},
     "output_type": "execute_result"
    }
   ],
   "source": [
    "# Put your any code here and enter your bytes object into n4()\n",
    "number = 1055\n",
    "\n",
    "key = hex(number)\n",
    "\n",
    "\n",
    "type(key)\n",
    "if len(key) % 2 == 1:\n",
    "    key = '0' + key[2:]\n",
    "print(key)\n",
    "\n",
    "bytes.fromhex(key)\n",
    "\n",
    "n4(bytes.fromhex(key))"
   ]
  },
  {
   "cell_type": "code",
   "execution_count": 7,
   "id": "744e9796",
   "metadata": {},
   "outputs": [
    {
     "name": "stdout",
     "output_type": "stream",
     "text": [
      "1055\n"
     ]
    }
   ],
   "source": [
    "print(int.from_bytes(bytes.fromhex(key),'big'))"
   ]
  },
  {
   "cell_type": "markdown",
   "id": "de8b1c3c",
   "metadata": {},
   "source": [
    "### 5. Consider that 1000 = 0x03e8. What is the one bytes object literal that will be produced by the code. Do this by hand. (After you have committed to an answer, you can run the code – you can, of course, change your answer.)\n",
    "```python\n",
    "i = 1000\n",
    "i.to_bytes(2, byteorder='little')\n",
    "```"
   ]
  },
  {
   "cell_type": "code",
   "execution_count": 8,
   "id": "9f165946",
   "metadata": {},
   "outputs": [
    {
     "data": {
      "text/plain": [
       "'Correct'"
      ]
     },
     "execution_count": 8,
     "metadata": {},
     "output_type": "execute_result"
    }
   ],
   "source": [
    "# Create a bytess object variable (e.g. b'\\x__\\x__') and pass it into n5()\n",
    "n5(b\"\\xe8\\x03\")\n",
    "# the little almost fooled me"
   ]
  },
  {
   "cell_type": "markdown",
   "id": "07533b87",
   "metadata": {},
   "source": [
    "### 6. The command ```user_says = input('Please enter the length of the file')``` will prompt the user to enter the length of a file, but it returns it as a string rather than an int. Write some python code to store the actual number as an int in the variable file_length."
   ]
  },
  {
   "cell_type": "code",
   "execution_count": 9,
   "id": "d567686a",
   "metadata": {},
   "outputs": [
    {
     "data": {
      "text/plain": [
       "'Correct'"
      ]
     },
     "execution_count": 9,
     "metadata": {},
     "output_type": "execute_result"
    }
   ],
   "source": [
    "user_says = '100'\n",
    "bob = int(user_says)\n",
    "# Wrtie code to convert user_says to an int, pass that value into n6()\n",
    "n6(bob)"
   ]
  },
  {
   "cell_type": "markdown",
   "id": "7d353364",
   "metadata": {},
   "source": [
    "### 7. Suppose file_length = 100.  Write some Python code that produces the bytes object b'File length: 100'. The number 100 should change with the file_length variable. (You can concatenate bytes objects just like strings.)"
   ]
  },
  {
   "cell_type": "code",
   "execution_count": 10,
   "id": "cb5dabc8",
   "metadata": {},
   "outputs": [
    {
     "name": "stdout",
     "output_type": "stream",
     "text": [
      "b'File length: 100'\n"
     ]
    },
    {
     "data": {
      "text/plain": [
       "'Correct'"
      ]
     },
     "execution_count": 10,
     "metadata": {},
     "output_type": "execute_result"
    }
   ],
   "source": [
    "# Write code here pass final value to n7()\n",
    "file_length = 100\n",
    "file_length = str(file_length)\n",
    "\n",
    "length_in_bites = file_length.encode()\n",
    "\n",
    "fileByte = b'File length: '\n",
    "fileByte += length_in_bites\n",
    "print(fileByte)\n",
    "n7(fileByte)"
   ]
  },
  {
   "cell_type": "markdown",
   "id": "61f8dae6",
   "metadata": {},
   "source": [
    "### 8. Both to_bytes() and encode() produce a bytes object. Describe the difference between these methods."
   ]
  },
  {
   "cell_type": "code",
   "execution_count": 11,
   "id": "e64f3ac2",
   "metadata": {},
   "outputs": [
    {
     "name": "stdout",
     "output_type": "stream",
     "text": [
      "b'\\x01\\xf4'\n",
      "b'hello'\n"
     ]
    }
   ],
   "source": [
    "number = 500\n",
    "\n",
    "print(number.to_bytes(2, \"big\"))\n",
    "\n",
    "word = \"hello\"\n",
    "\n",
    "print(word.encode())\n"
   ]
  },
  {
   "cell_type": "markdown",
   "id": "16594546",
   "metadata": {},
   "source": [
    "<span style=\"color:red; font-size: 200%\">8. As one can see, we use encode to encode strings and to_bytes for other data types. Another thing to look at is that when you encode a number it stores it in a readable form in python. When you to_bytes an int it is shown in hexadecimal form.</span>"
   ]
  },
  {
   "cell_type": "markdown",
   "id": "e7ce03e7",
   "metadata": {},
   "source": []
  },
  {
   "cell_type": "markdown",
   "id": "d977e1b5",
   "metadata": {},
   "source": [
    "### 9. Write a Python implementation of the str() method that takes an int as the argument and converts it to the equivalent decimal str.  Use only to_bytes(), from_bytes(), encode(), decode(), and arithmetic operators like < and +. Do not use the str, int, hex, format, etc. functions."
   ]
  },
  {
   "cell_type": "code",
   "execution_count": 20,
   "id": "115184bd",
   "metadata": {},
   "outputs": [
    {
     "name": "stdout",
     "output_type": "stream",
     "text": [
      "1000\n",
      "<class 'str'>\n"
     ]
    }
   ],
   "source": [
    "#This is kind of a cheeky way to do it\n",
    "num = 1000\n",
    "\n",
    "converted_num = '{}'.format(num)\n",
    "print(converted_num)\n",
    "print(type(converted_num))"
   ]
  },
  {
   "cell_type": "code",
   "execution_count": null,
   "id": "7698e318",
   "metadata": {},
   "outputs": [],
   "source": [
    "# Finish the function below, and pass it to the function n9()\n",
    "import sys\n",
    "def mystr(x):\n",
    "    for i in range(len(str(x))):\n",
    "        num = x % 10\n",
    "    \n",
    "        \n",
    "    \n",
    "    bob = x.to_bytes(4, 'big')\n",
    "    \n",
    "    ans = str.from_bytes()\n",
    "    \n",
    "def int_to_str(input_int):\n",
    "    if input_int < 0:\n",
    "        is_negative = True\n",
    "        input_int *= -1\n",
    "    else:\n",
    "        is_negative = False\n",
    "\n",
    "    output_str = []\n",
    "    while input_int > 0:\n",
    "        #ord returns unicde number for character\n",
    "        output_str.append(chr(ord(\"0\") + input_int % 10))\n",
    "        #floor division\n",
    "        input_int //= 10\n",
    "\n",
    "    output_str = \"\".join(output_str[::-1])\n",
    "    if is_negative:\n",
    "        return \"-\" + output_str\n",
    "    else:\n",
    "        return output_str  \n",
    "    \n",
    "    \n",
    "\n",
    "out = int_to_str(100)\n",
    "print(out)\n",
    "type(out)\n",
    "\n"
   ]
  },
  {
   "cell_type": "markdown",
   "id": "4787a32d",
   "metadata": {},
   "source": [
    "### 10. Write a Python implementation of the int() method that takes an ASCII decimal bytes object and converts it to the equivalent int.  Use only to_bytes(), from_bytes(), encode(), decode(), and arithmetic operators like < and +. Do not use the str, int, hex, format, etc. functions."
   ]
  },
  {
   "cell_type": "code",
   "execution_count": null,
   "id": "d4d0cb7a",
   "metadata": {},
   "outputs": [],
   "source": [
    "# Finish the function below, and pass it to the function n10()\n",
    "def myint(x):\n",
    "    num = 0\n",
    "    \n",
    "  \n",
    "    # Iterate till length of the string \n",
    "    for i in x: \n",
    "  \n",
    "        # Subtract 48 from the current digit to get correct unicode value\n",
    "        # multiply by ten to move significant digit\n",
    "        num = num * 10 + (ord(i) - 48) \n",
    "  \n",
    "    # Print the answer \n",
    "    print(num) \n",
    "  \n",
    "\n",
    "myint('1000')\n"
   ]
  },
  {
   "cell_type": "markdown",
   "id": "79210b3a",
   "metadata": {},
   "source": [
    "<span style=\"color:green; font-size: 200%\">I had a lot of trouble with number 9 and 10. These answers are taken partially from the internet. Even though I do understand what they are doing and why they are doing it, they are not technically my solutions. It would be nice to go over this in class. Especially the ord function.\n",
    "    \n",
    "</span>"
   ]
  },
  {
   "cell_type": "code",
   "execution_count": null,
   "id": "7ca9240b",
   "metadata": {},
   "outputs": [],
   "source": []
  }
 ],
 "metadata": {
  "kernelspec": {
   "display_name": "Python 3",
   "language": "python",
   "name": "python3"
  },
  "language_info": {
   "codemirror_mode": {
    "name": "ipython",
    "version": 3
   },
   "file_extension": ".py",
   "mimetype": "text/x-python",
   "name": "python",
   "nbconvert_exporter": "python",
   "pygments_lexer": "ipython3",
   "version": "3.8.8"
  }
 },
 "nbformat": 4,
 "nbformat_minor": 5
}
