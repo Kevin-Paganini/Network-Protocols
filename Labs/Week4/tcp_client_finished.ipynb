{
 "cells": [
  {
   "cell_type": "code",
   "execution_count": 1,
   "id": "a49af8a8",
   "metadata": {},
   "outputs": [],
   "source": [
    "from socket import *\n",
    "import struct\n",
    "import time\n",
    "import sys\n",
    "\n",
    "# Port number definitions\n",
    "# (May have to be adjusted if they collide with ports in use by other programs/services.)\n",
    "TCP_PORT = 12100\n",
    "\n",
    "# Address of the 'other' ('server') host that should be connected to for 'send' operations.\n",
    "# When connecting on one system, use 'localhost'\n",
    "# When 'sending' to another system, use its IP address (or DNS name if it has one)\n",
    "# OTHER_HOST = '155.92.x.x'\n",
    "OTHER_HOST = 'localhost'\n",
    "\n",
    "\n",
    "def tcp_send(server_host, server_port):\n",
    "    \"\"\"\n",
    "    - Send multiple messages over a TCP connection to a designated host/port\n",
    "    - Receive a one-character response from the 'server'\n",
    "    - Print the received response\n",
    "    - Close the socket\n",
    "\n",
    "    :param str server_host: name of the server host machine\n",
    "    :param int server_port: port number on server to send to\n",
    "    \"\"\"\n",
    "    print('tcp_send: dst_host=\"{0}\", dst_port={1}'.format(\n",
    "        server_host, server_port))\n",
    "    tcp_socket = socket(AF_INET, SOCK_STREAM)\n",
    "    tcp_socket.connect((server_host, server_port))\n",
    "\n",
    "    \n",
    "    \n",
    "    num_lines = int(\n",
    "        input('Enter the number of lines you want to send (0 to exit):'))\n",
    "\n",
    "    while num_lines != 0:\n",
    "        print('Now enter all the lines of your message')\n",
    "        # This client code does not completely conform to the specification.\n",
    "        #\n",
    "        # In it, I only pack one byte of the range, limiting the number of lines this\n",
    "        # client can send.\n",
    "        #\n",
    "        # While writing tcp_receive, you will need to use a different approach to unpack to meet the specification.\n",
    "        #\n",
    "        # Feel free to upgrade this code to handle a higher number of lines, too.\n",
    "        tcp_socket.sendall(b'\\x00\\x00')\n",
    "        time.sleep(1)  # Just to mess with your servers. :-)\n",
    "        tcp_socket.sendall(b'\\x00' + bytes((num_lines, )))\n",
    "\n",
    "        # Enter the lines of the message. Each line will be sent as it is entered.\n",
    "        for line_num in range(0, num_lines):\n",
    "            line = input('')\n",
    "            tcp_socket.sendall(line.encode() + b'\\n')\n",
    "\n",
    "        print('Done sending. Awaiting reply.')\n",
    "        response = tcp_socket.recv(1)\n",
    "        if response == b'A':  # Note: == in Python is like .equals in Java\n",
    "            print('File accepted.')\n",
    "        else:\n",
    "            print('Unexpected response:', response)\n",
    "\n",
    "        num_lines = int(\n",
    "            input('Enter the number of lines you want to send (0 to exit):'))\n",
    "\n",
    "    tcp_socket.sendall(b'\\x00\\x00')\n",
    "    time.sleep(\n",
    "        1\n",
    "    )  # Just to mess with your servers. :-)  Your code should work with this line here.\n",
    "    tcp_socket.sendall(b'\\x00\\x00')\n",
    "    response = tcp_socket.recv(1)\n",
    "    if response == b'Q':  # Reminder: == in Python is like .equals in Java\n",
    "        print('Server closing connection, as expected.')\n",
    "    else:\n",
    "        print('Unexpected response:', response)\n",
    "\n",
    "    tcp_socket.close()"
   ]
  },
  {
   "cell_type": "code",
   "execution_count": 2,
   "id": "388fb86d",
   "metadata": {},
   "outputs": [
    {
     "name": "stdout",
     "output_type": "stream",
     "text": [
      "tcp_send: dst_host=\"localhost\", dst_port=12100\n",
      "Enter the number of lines you want to send (0 to exit):1\n",
      "Now enter all the lines of your message\n",
      "hi\n",
      "Done sending. Awaiting reply.\n",
      "File accepted.\n",
      "Enter the number of lines you want to send (0 to exit):2\n",
      "Now enter all the lines of your message\n",
      "hi\n",
      "bye\n",
      "Done sending. Awaiting reply.\n",
      "File accepted.\n",
      "Enter the number of lines you want to send (0 to exit):3\n",
      "Now enter all the lines of your message\n",
      "ssss\n",
      "eeeee\n",
      "wwwww\n",
      "Done sending. Awaiting reply.\n",
      "File accepted.\n",
      "Enter the number of lines you want to send (0 to exit):0\n",
      "Server closing connection, as expected.\n"
     ]
    }
   ],
   "source": [
    "tcp_send(OTHER_HOST, TCP_PORT)"
   ]
  },
  {
   "cell_type": "markdown",
   "id": "f2c95316",
   "metadata": {},
   "source": [
    "#\n",
    "    Code to make headers, kinda interesting: \n",
    "    print(f'{len(msg):<20}'+msg)\n",
    "    "
   ]
  },
  {
   "cell_type": "code",
   "execution_count": null,
   "id": "0b8335a3",
   "metadata": {},
   "outputs": [],
   "source": []
  },
  {
   "cell_type": "code",
   "execution_count": null,
   "id": "e8b45a42",
   "metadata": {},
   "outputs": [],
   "source": []
  }
 ],
 "metadata": {
  "kernelspec": {
   "display_name": "Python 3",
   "language": "python",
   "name": "python3"
  },
  "language_info": {
   "codemirror_mode": {
    "name": "ipython",
    "version": 3
   },
   "file_extension": ".py",
   "mimetype": "text/x-python",
   "name": "python",
   "nbconvert_exporter": "python",
   "pygments_lexer": "ipython3",
   "version": "3.8.8"
  }
 },
 "nbformat": 4,
 "nbformat_minor": 5
}
