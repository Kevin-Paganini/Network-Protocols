{
 "cells": [
  {
   "cell_type": "code",
   "execution_count": 1,
   "id": "e35c6aa1",
   "metadata": {},
   "outputs": [],
   "source": [
    "from socket import *\n",
    "import struct\n",
    "import time\n",
    "import sys\n",
    "\n",
    "# Port number definitions\n",
    "# (May have to be adjusted if they collide with ports in use by other programs/services.)\n",
    "TCP_PORT = 12100\n",
    "\n",
    "# Address to listen on when acting as server.\n",
    "# The address '' means accept any connection for our 'receive' port from any network interface\n",
    "# on this system (including 'localhost' loopback connection).\n",
    "LISTEN_ON_INTERFACE = ''\n"
   ]
  },
  {
   "cell_type": "code",
   "execution_count": 2,
   "id": "6bc991ea",
   "metadata": {},
   "outputs": [],
   "source": [
    "def read_message(tcp_socket):\n",
    "    new_msg = True\n",
    "    fileCounter = 0\n",
    "    #Accept the connection, creating a connection socket\n",
    "    clientSocket, address = tcp_socket.accept()\n",
    "    #Print the address and port of the sender   \n",
    "    print(f\"Connection from {address} has been established.\")\n",
    "    fileFlag = True\n",
    "    while fileFlag:\n",
    "        fileCounter += 1\n",
    "\n",
    "        #reading in header for number of lines\n",
    "        full_header = b''\n",
    "        for i in range(4):\n",
    "            header = clientSocket.recv(1)\n",
    "            full_header += header   \n",
    "        numLines = int.from_bytes(full_header, \"big\")\n",
    "        fullMsg = ''\n",
    "        if numLines <= 0:\n",
    "            clientSocket.send(bytes('Q', 'utf-8'))\n",
    "            clientSocket.close()\n",
    "            tcp_socket.close()\n",
    "            fileFlag = False\n",
    "                \n",
    "        elif numLines > 0:  \n",
    "            numLinesRead = 0\n",
    "            flag = True\n",
    "            while flag:\n",
    "                if numLinesRead >= numLines:\n",
    "                    flag = False\n",
    "                else:\n",
    "                    fullLine = b''\n",
    "                    current_byte = b'' \n",
    "                    while current_byte != b'\\n':\n",
    "                        \n",
    "                        current_byte = clientSocket.recv(1)\n",
    "                        fullLine += current_byte\n",
    "\n",
    "                    fullMsg += fullLine.decode('utf-8')\n",
    "                    \n",
    "                    numLinesRead += 1\n",
    "                    print(numLinesRead)\n",
    "        \n",
    "            clientSocket.send(bytes('A', 'utf-8'))\n",
    "            \n",
    "            print(fullMsg)\n",
    "            print(f'File Counter: {fileCounter}')\n",
    "            #write_to_file(fullMsg, fileCounter)\n",
    "            \n",
    "   \n",
    "    "
   ]
  },
  {
   "cell_type": "code",
   "execution_count": 3,
   "id": "7eb0dad1",
   "metadata": {},
   "outputs": [],
   "source": [
    "def write_to_file(msg, fileNumber): \n",
    "    file = open(f'File{fileNumber}.txt', \"w\")\n",
    "    file.write(msg)\n",
    "    file.close"
   ]
  },
  {
   "cell_type": "code",
   "execution_count": 4,
   "id": "3938ef69",
   "metadata": {},
   "outputs": [],
   "source": [
    "def tcp_receive(listen_on, listen_port):\n",
    "    \"\"\"\n",
    "    - Listen for a TCP connection on a designated \"listening\" port\n",
    "    \"\"\"\n",
    "    _ADDRESS_ = (listen_on, listen_port)\n",
    "    tcp_socket = socket(AF_INET, SOCK_STREAM)\n",
    "    tcp_socket.bind(_ADDRESS_)\n",
    "    tcp_socket.listen(5)    \n",
    "    read_message(tcp_socket)       \n",
    "        \n",
    "        \n",
    "    \n",
    "    \"\"\"\n",
    "    - Repeat until a zero-length message is received:\n",
    "      - Receive a message, saving it to a text-file (1.txt for first file, 2.txt for second file, etc.)\n",
    "      - Send a single-character response 'A' to indicate that the upload was accepted.\n",
    "    - Send a 'Q' to indicate a zero-length message was received.\n",
    "    - Close data connection.\n",
    "\n",
    "    :param int listen_port: Port number on the server to listen on\n",
    "    \"\"\"\n",
    "\n",
    "    print('tcp_receive (server): listen_port={0}'.format(listen_port))\n"
   ]
  },
  {
   "cell_type": "code",
   "execution_count": 5,
   "id": "31cf76b6",
   "metadata": {},
   "outputs": [
    {
     "name": "stdout",
     "output_type": "stream",
     "text": [
      "Connection from ('192.168.1.181', 58363) has been established.\n",
      "1\n",
      "2\n",
      "3\n",
      "Hello, World!\n",
      "There are 3 lines\n",
      "done\n",
      "\n",
      "File Counter: 1\n",
      "1\n",
      "2\n",
      "hello world\n",
      "stuff\n",
      "\n",
      "File Counter: 2\n",
      "1\n",
      "foo bar\n",
      "\n",
      "File Counter: 3\n",
      "tcp_receive (server): listen_port=12100\n"
     ]
    }
   ],
   "source": [
    "tcp_receive(LISTEN_ON_INTERFACE, TCP_PORT)"
   ]
  }
 ],
 "metadata": {
  "kernelspec": {
   "display_name": "Python 3",
   "language": "python",
   "name": "python3"
  },
  "language_info": {
   "codemirror_mode": {
    "name": "ipython",
    "version": 3
   },
   "file_extension": ".py",
   "mimetype": "text/x-python",
   "name": "python",
   "nbconvert_exporter": "python",
   "pygments_lexer": "ipython3",
   "version": "3.8.8"
  }
 },
 "nbformat": 4,
 "nbformat_minor": 5
}
